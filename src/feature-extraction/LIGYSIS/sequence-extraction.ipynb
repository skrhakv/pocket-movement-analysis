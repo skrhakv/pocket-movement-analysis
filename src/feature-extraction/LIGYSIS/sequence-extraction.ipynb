{
 "cells": [
  {
   "cell_type": "code",
   "execution_count": 1,
   "metadata": {},
   "outputs": [
    {
     "name": "stdout",
     "output_type": "stream",
     "text": [
      "8244\n",
      "         ACC SEG  ID                                             up_aas  \\\n",
      "0     P03372   2   0  [339, 341, 342, 343, 344, 345, 346, 347, 349, ...   \n",
      "1     P03372   2   1  [329, 330, 331, 332, 333, 335, 336, 337, 338, ...   \n",
      "2     P03372   2   2                          [326, 327, 328, 330, 352]   \n",
      "3     P00750   3   0  [342, 357, 358, 401, 402, 403, 482, 484, 485, ...   \n",
      "4     P02100   1   0  [32, 39, 42, 43, 46, 60, 64, 67, 68, 71, 72, 8...   \n",
      "...      ...  ..  ..                                                ...   \n",
      "8239  P40818   3   0           [936, 938, 939, 940, 985, 987, 988, 992]   \n",
      "8240  P35222   1   0  [205, 206, 207, 208, 211, 242, 243, 245, 246, ...   \n",
      "8241  O95970   2   0                          [334, 336, 381, 382, 383]   \n",
      "8242  O95970   2   1                               [422, 423, 424, 425]   \n",
      "8243  Q9NX01   1   0                                   [93, 96, 97, 99]   \n",
      "\n",
      "      n_aas    SEG_ID   SITE_NAME pdb_id auth_asym_id struct_asym_id  \\\n",
      "0        61  P03372_2  P03372_2_0   1a52            A              A   \n",
      "1        18  P03372_2  P03372_2_1   1a52            A              A   \n",
      "2         5  P03372_2  P03372_2_2   1a52            A              A   \n",
      "3        27  P00750_3  P00750_3_0   1a5h            B              D   \n",
      "4        22  P02100_1  P02100_1_0   1a9w            E              B   \n",
      "...     ...       ...         ...    ...          ...            ...   \n",
      "8239      8  P40818_3  P40818_3_0   8xpn            A              A   \n",
      "8240     12  P35222_1  P35222_1_0   8y14            A              A   \n",
      "8241      5  O95970_2  O95970_2_0   8y6b            F              E   \n",
      "8242      4  O95970_2  O95970_2_1   8y6b            F              E   \n",
      "8243      4  Q9NX01_1  Q9NX01_1_0   8y6o            H              H   \n",
      "\n",
      "     rep_chain    RoG                                                aas  \\\n",
      "0       1a52_A  14.20  [43, 45, 46, 47, 48, 49, 50, 51, 53, 54, 55, 5...   \n",
      "1       1a52_A   7.67  [33, 34, 35, 36, 37, 39, 40, 41, 42, 45, 46, 4...   \n",
      "2       1a52_A   5.46                               [30, 31, 32, 34, 56]   \n",
      "3       1a5h_B   8.98  [32, 47, 48, 91, 92, 93, 172, 174, 175, 197, 1...   \n",
      "4       1a9w_E   9.81  [31, 38, 41, 42, 45, 59, 63, 66, 67, 70, 71, 8...   \n",
      "...        ...    ...                                                ...   \n",
      "8239    8xpn_A   5.07           [203, 205, 206, 207, 252, 254, 255, 259]   \n",
      "8240    8y14_A   6.96  [68, 69, 70, 71, 74, 105, 106, 108, 109, 110, ...   \n",
      "8241    8y6b_F   4.21                          [303, 305, 350, 351, 352]   \n",
      "8242    8y6b_F   3.77                               [391, 392, 393, 394]   \n",
      "8243    8y6o_H   3.89                                   [93, 96, 97, 99]   \n",
      "\n",
      "                         centre     SASA     VOL  \n",
      "0      (-0.966, -16.192, -2.54)  3266.99  5651.0  \n",
      "1       (7.883, -18.704, 5.375)  1034.84   451.0  \n",
      "2         (2.537, -9.125, 11.7)   460.17    30.0  \n",
      "3        (0.467, 7.085, -7.455)   968.54   951.0  \n",
      "4         (-4.39, 6.075, 1.831)   895.32   913.0  \n",
      "...                         ...      ...     ...  \n",
      "8239   (2.034, -33.131, -8.816)   478.35    25.0  \n",
      "8240  (1.987, -37.811, -11.715)   762.12   202.0  \n",
      "8241    (1.688, 25.917, -1.282)    71.26    25.0  \n",
      "8242    (16.013, 33.482, 2.164)   296.42     0.0  \n",
      "8243   (-5.77, -6.938, -11.155)   289.11     0.0  \n",
      "\n",
      "[8244 rows x 16 columns]\n"
     ]
    }
   ],
   "source": [
    "import pickle\n",
    "\n",
    "with open('/home/vit/Projects/flexibility-analysis/datasets/LIGYSIS/LIGYSIS_sites_DEF_TRANS.pkl', 'rb') as file:\n",
    "    LIGYSIS_human_chains_per_lig_MAY_2024 = pickle.load(file)\n",
    "import pandas\n",
    "df = pandas.DataFrame(LIGYSIS_human_chains_per_lig_MAY_2024)\n",
    "# Display the loaded data (optional)\n",
    "print(len(df))\n",
    "print(df)"
   ]
  },
  {
   "cell_type": "code",
   "execution_count": 7,
   "metadata": {},
   "outputs": [
    {
     "data": {
      "text/plain": [
       "'31+38+41+42+45+59+63+66+67+70+71+85+88+91+92+96+98+102+103+106+137+141'"
      ]
     },
     "execution_count": 7,
     "metadata": {},
     "output_type": "execute_result"
    }
   ],
   "source": [
    "index = 4\n",
    "\n",
    "assert len(df.iloc[index]['aas']) == len(df.iloc[index]['up_aas'])\n",
    "\"+\".join([str(i) for i in df.iloc[index]['aas']])"
   ]
  },
  {
   "cell_type": "code",
   "execution_count": 8,
   "metadata": {},
   "outputs": [],
   "source": [
    "df['protein_id'] = df['pdb_id'] + df['struct_asym_id']"
   ]
  },
  {
   "cell_type": "code",
   "execution_count": 2,
   "metadata": {},
   "outputs": [],
   "source": [
    "mapping = {'Aba': 'A', 'Ace': 'X', 'Acr': 'X', 'Ala': 'A', 'Aly': 'K', 'Arg': 'R', 'Asn': 'N', 'Asp': 'D', 'Cas': 'C',\n",
    "           'Ccs': 'C', 'Cme': 'C', 'Csd': 'C', 'Cso': 'C', 'Csx': 'C', 'Cys': 'C', 'Dal': 'A', 'Dbb': 'T', 'Dbu': 'T',\n",
    "           'Dha': 'S', 'Gln': 'Q', 'Glu': 'E', 'Gly': 'G', 'Glz': 'G', 'His': 'H', 'Hse': 'S', 'Ile': 'I', 'Leu': 'L',\n",
    "           'Llp': 'K', 'Lys': 'K', 'Men': 'N', 'Met': 'M', 'Mly': 'K', 'Mse': 'M', 'Nh2': 'X', 'Nle': 'L', 'Ocs': 'C',\n",
    "           'Pca': 'E', 'Phe': 'F', 'Pro': 'P', 'Ptr': 'Y', 'Sep': 'S', 'Ser': 'S', 'Thr': 'T', 'Tih': 'A', 'Tpo': 'T',\n",
    "           'Trp': 'W', 'Tyr': 'Y', 'Unk': 'X', 'Val': 'V', 'Ycm': 'C', 'Sec': 'U', 'Pyl': 'O', 'Mhs': 'H', 'Snm': 'S',\n",
    "           'Mis': 'S', 'Seb': 'S', 'Hic' : 'H', 'Fme': 'M', 'Asb': 'D', 'Sah': 'C', 'Smc': 'C', 'Tpq': 'Y', 'Onl': 'X',\n",
    "           'Tox': 'W', '5x8': 'X', 'Ddz': 'A', 'Nep': 'X', 'T8l': 'T', 'Cgu': 'E', 'Caf': 'C', 'Dsn': 'S', 'Tys': 'Y',\n",
    "           'Als': 'S', 'Kcx': 'K', 'P1l': 'C', 'Fgp': 'X', 'Scy': 'C', 'Cxm': 'M', 'Css': 'C', 'Led': 'L', 'Cgl': 'C',\n",
    "           'Mlz': 'K', 'Scs': 'A'}\n",
    "\n"
   ]
  },
  {
   "cell_type": "markdown",
   "metadata": {},
   "source": [
    "## OLD: extract sequences"
   ]
  },
  {
   "cell_type": "code",
   "execution_count": null,
   "metadata": {},
   "outputs": [],
   "source": [
    "import biotite.database.rcsb as rcsb\n",
    "import biotite.structure.io.pdbx as pdbx\n",
    "import biotite.structure as struc\n",
    "import biotite.sequence as seq\n",
    "import numpy as np\n",
    "import os, sys\n",
    "sys.path.append('../../utils/')\n",
    "import constants\n",
    "\n",
    "\n",
    "def get_sequence(protein_id):\n",
    "    mmcif_filepath = f'{constants.CIF_FILES_PATH}/{protein_id[:4]}.cif'\n",
    "\n",
    "    if not os.path.isfile(mmcif_filepath):\n",
    "        rcsb.fetch(protein_id[:4], 'cif', target_path=constants.CIF_FILES_PATH)\n",
    "\n",
    "    mmcif_file = pdbx.CIFFile.read(mmcif_filepath) # reads the entity_poly.pdbx_seq_one_letter_code_can entry.\n",
    "\n",
    "    chain_mask = mmcif_file.block['pdbx_poly_seq_scheme']['asym_id'].as_array() == protein_id[4:]\n",
    "    sequence = mmcif_file.block['pdbx_poly_seq_scheme']['mon_id'].as_array()[chain_mask]\n",
    "    sequence = ''.join([mapping[i.capitalize()] for i in sequence])\n",
    "\n",
    "    return sequence\n",
    "\n",
    "df.groupby('ACC')\n",
    "for accession_id, sequence_group in df.groupby('ACC'):\n",
    "    # find largest contributor:\n",
    "    largest_pocket = []\n",
    "    largest_protein_id = None\n",
    "    for protein_id, protein_group in sequence_group.groupby('protein_id'):\n",
    "        if len(set(sum(protein_group['aas'].values.tolist(), []))) > len(largest_pocket):\n",
    "            largest_pocket = set(sum(protein_group['aas'].values.tolist(), []))\n",
    "            largest_protein_id = protein_id\n",
    "    \n",
    "    if os.path.isfile(f'/home/vit/Projects/flexibility-analysis/datasets/LIGYSIS/sequences/{largest_protein_id}.fasta'):\n",
    "        continue\n",
    "\n",
    "    print(f'processing {largest_protein_id}')\n",
    "    \n",
    "    sequence = get_sequence(largest_protein_id)\n",
    "\n",
    "    largest_pocket = [int(''.join(filter(str.isdigit, i))) for i in largest_pocket]\n",
    "    assert max(largest_pocket) <= len(sequence), f'{max(largest_pocket)} <= {len(sequence)}'\n",
    "    assert min(largest_pocket) > 0\n",
    "\n",
    "    with open(f'/home/vit/Projects/flexibility-analysis/datasets/LIGYSIS/sequences/{largest_protein_id}.fasta', 'w') as f:\n",
    "        f.write(f'>{largest_protein_id}\\n')\n",
    "        f.write(str(sequence))\n",
    "    np.save(f'/home/vit/Projects/flexibility-analysis/datasets/LIGYSIS/indices/{largest_protein_id}.npy', np.array(list(largest_pocket)))\n"
   ]
  },
  {
   "cell_type": "markdown",
   "metadata": {},
   "source": [
    "## Take the Uniprot ID, query the Alphafold-DB, retrieve the predicted structure and map the pocket on the AF-predicted structure"
   ]
  },
  {
   "cell_type": "code",
   "execution_count": null,
   "metadata": {},
   "outputs": [],
   "source": [
    "import requests\n",
    "import re\n",
    "\n",
    "base_url = \"https://www.ebi.ac.uk/pdbe/\"\n",
    "\n",
    "api_base = base_url + \"api/\"\n",
    "\n",
    "uniprot_mapping_url = api_base + 'mappings/uniprot/'\n",
    "\n",
    "def make_request(url, mode, pdb_id):\n",
    "    \"\"\"\n",
    "    This function can make GET and POST requests to\n",
    "    the PDBe API\n",
    "    \n",
    "    :param url: String,\n",
    "    :param mode: String,\n",
    "    :param pdb_id: String\n",
    "    :return: JSON or None\n",
    "    \"\"\"\n",
    "    if mode == \"get\":\n",
    "        response = requests.get(url=url+pdb_id)\n",
    "    elif mode == \"post\":\n",
    "        response = requests.post(url, data=pdb_id)\n",
    "\n",
    "    if response.status_code == 200:\n",
    "        return response.json()\n",
    "    else:\n",
    "        print(\"[No data retrieved - %s] %s\" % (response.status_code, response.text))\n",
    "    \n",
    "    return None\n",
    "\n",
    "pdb_id = '1a52'\n",
    "uniprot_id = 'P03372'\n",
    "struct_asym_id = 'A'\n",
    "mappings_data = make_request(uniprot_mapping_url, \"get\", pdb_id)\n",
    "    \n",
    "# Check if there is data\n",
    "if not mappings_data:\n",
    "    print(\"No data found\")"
   ]
  },
  {
   "cell_type": "code",
   "execution_count": 14,
   "metadata": {},
   "outputs": [
    {
     "data": {
      "text/plain": [
       "[{'entity_id': 1,\n",
       "  'chain_id': 'A',\n",
       "  'struct_asym_id': 'A',\n",
       "  'unp_start': 297,\n",
       "  'unp_end': 554,\n",
       "  'start': {'residue_number': 1,\n",
       "   'author_residue_number': None,\n",
       "   'author_insertion_code': ''},\n",
       "  'end': {'residue_number': 258,\n",
       "   'author_residue_number': None,\n",
       "   'author_insertion_code': ''}},\n",
       " {'entity_id': 1,\n",
       "  'chain_id': 'B',\n",
       "  'struct_asym_id': 'B',\n",
       "  'unp_start': 297,\n",
       "  'unp_end': 554,\n",
       "  'start': {'residue_number': 1,\n",
       "   'author_residue_number': None,\n",
       "   'author_insertion_code': ''},\n",
       "  'end': {'residue_number': 258,\n",
       "   'author_residue_number': None,\n",
       "   'author_insertion_code': ''}}]"
      ]
     },
     "execution_count": 14,
     "metadata": {},
     "output_type": "execute_result"
    }
   ],
   "source": [
    "mappings_data[pdb_id]['UniProt'][uniprot_id]['mappings']"
   ]
  },
  {
   "cell_type": "code",
   "execution_count": null,
   "metadata": {},
   "outputs": [],
   "source": [
    "uniprot_to_binding_site = {}\n",
    "\n",
    "for uniprot_id, sequence_group in df.groupby('ACC'):\n",
    "    # Check if there is data\n",
    "    for i, row in sequence_group.iterrows():            \n",
    "        binding_site = row['up_aas']\n",
    "        if uniprot_id not in uniprot_to_binding_site:\n",
    "            uniprot_to_binding_site[uniprot_id] = set()\n",
    "        uniprot_to_binding_site[uniprot_id].update(binding_site)\n"
   ]
  },
  {
   "cell_type": "code",
   "execution_count": 28,
   "metadata": {},
   "outputs": [],
   "source": [
    "import numpy as np\n",
    "\n",
    "for uniprot_id, binding_site in uniprot_to_binding_site.items():\n",
    "    with open(f'/home/vit/Projects/flexibility-analysis/datasets/LIGYSIS/indices/{uniprot_id}.npy', 'wb') as f:\n",
    "        np.save(f, np.array(list(binding_site)))"
   ]
  },
  {
   "cell_type": "code",
   "execution_count": null,
   "metadata": {},
   "outputs": [],
   "source": [
    "UniProt_accessions = uniprot_to_binding_site.keys()\n",
    "\n",
    "def call_api_with_accessions(accessions):\n",
    "\n",
    "    # Your API endpoint and other parameters\n",
    "    api_endpoint = \"https://alphafold.ebi.ac.uk/api/prediction/\"\n",
    "\n",
    "    for accession in accessions:\n",
    "      url = f\"{api_endpoint}{accession}\"\n",
    "    # Make the API request\n",
    "      try:\n",
    "        response = requests.get(url, timeout=10)\n",
    "\n",
    "        # Check if the request was successful (status code 200)\n",
    "        if response.status_code == 200:\n",
    "            # Process the API response as needed\n",
    "            protein_info = response.json()\n",
    "            pdb_url = protein_info[0].get('pdbUrl')\n",
    "            pdb_data = requests.get(pdb_url).text\n",
    "            with open(f'/home/vit/Projects/flexibility-analysis/datasets/LIGYSIS/AF-structures/{accession}.pdb', 'w') as f:\n",
    "                f.write(pdb_data)\n",
    "        else:\n",
    "            # Handle unsuccessful API request\n",
    "            print(f\"API request for {accession} failed with status code: {response.status_code}\")\n",
    "\n",
    "      except Exception as e:\n",
    "        # Handle exceptions, e.g., connection issues\n",
    "        print(f\"Error occurred for {accession}: {str(e)}\")\n",
    "\n",
    "# Example usage\n",
    "call_api_with_accessions(UniProt_accessions)\n"
   ]
  },
  {
   "cell_type": "code",
   "execution_count": 47,
   "metadata": {},
   "outputs": [],
   "source": [
    "import biotite.structure.io.pdb as pdb\n",
    "import biotite.structure as struc\n",
    "import os\n",
    "import sys\n",
    "sys.path.append('../../utils/')\n",
    "import biotite_utils\n",
    "\n",
    "\n",
    "def load_af_structure(pdb_filepath):\n",
    "    mmcif_file = pdb.PDBFile.read(pdb_filepath)\n",
    "    # load file to biotite object\n",
    "    whole_structure = pdb.get_structure(mmcif_file, model=1, include_bonds=True, extra_fields=['b_factor'])\n",
    "    return whole_structure[struc.filter_amino_acids(whole_structure)]\n",
    "\n",
    "af_structures_path = '/home/vit/Projects/flexibility-analysis/datasets/LIGYSIS/AF-structures'\n",
    "output_dir = '/home/vit/Projects/flexibility-analysis/data/features/plDDT'\n",
    "\n",
    "for pdb_file in os.listdir(af_structures_path):\n",
    "    af_structure = load_af_structure(f'{af_structures_path}/{pdb_file}')\n",
    "    af_structure = biotite_utils.get_protein_backbone(af_structure, 'A')\n",
    "    # Get the sequence of the protein with the plDDT values\n",
    "    plDDTs = np.zeros(len(af_structure), dtype=float)\n",
    "    sequence = ''\n",
    "    for i, residue in enumerate(af_structure):\n",
    "        residue_id = mapping[residue.res_name.capitalize()]\n",
    "        plDDT = residue.b_factor\n",
    "\n",
    "        plDDTs[i] = plDDT\n",
    "        sequence += residue_id\n",
    "    # Save the plDDT values to a file\n",
    "    np.save(f'{output_dir}/plDDT/{pdb_file.split(\".\")[0]}.npy', plDDTs)\n",
    "    # Save the sequence to a file\n",
    "    with open(f'{output_dir}/sequences/{pdb_file.split(\".\")[0]}.txt', 'w') as f:\n",
    "        f.write(str(sequence))\n"
   ]
  },
  {
   "cell_type": "code",
   "execution_count": 50,
   "metadata": {},
   "outputs": [],
   "source": [
    "for uniprot_id, binding_site in uniprot_to_binding_site.items():\n",
    "    if min(binding_site) < 1:\n",
    "        print(binding_site)"
   ]
  },
  {
   "cell_type": "markdown",
   "metadata": {},
   "source": [
    " looks like it is 1-based, not 0-based .."
   ]
  },
  {
   "cell_type": "code",
   "execution_count": null,
   "metadata": {},
   "outputs": [
    {
     "name": "stdout",
     "output_type": "stream",
     "text": [
      "O43451.txt 2176 > 1857\n",
      "O43451.txt 2053 > 1857\n",
      "O43451.txt 2054 > 1857\n",
      "O43451.txt 2055 > 1857\n",
      "O43451.txt 2314 > 1857\n",
      "O43451.txt 2060 > 1857\n",
      "O43451.txt 2316 > 1857\n",
      "O43451.txt 2317 > 1857\n",
      "O43451.txt 2063 > 1857\n",
      "O43451.txt 2323 > 1857\n",
      "O43451.txt 2451 > 1857\n",
      "O43451.txt 2456 > 1857\n",
      "O43451.txt 2457 > 1857\n",
      "O43451.txt 2455 > 1857\n",
      "O43451.txt 2211 > 1857\n",
      "O43451.txt 2213 > 1857\n",
      "O43451.txt 2478 > 1857\n",
      "O43451.txt 2480 > 1857\n",
      "O43451.txt 2482 > 1857\n",
      "O43451.txt 2356 > 1857\n",
      "O43451.txt 2251 > 1857\n",
      "O43451.txt 2265 > 1857\n",
      "O43451.txt 2147 > 1857\n",
      "O43451.txt 2406 > 1857\n",
      "O43451.txt 2419 > 1857\n",
      "O43451.txt 2422 > 1857\n",
      "O43451.txt 2424 > 1857\n",
      "O43451.txt 2175 > 1857\n",
      "P15692.txt 288 > 232\n",
      "P15692.txt 299 > 232\n",
      "P15692.txt 300 > 232\n",
      "P15692.txt 301 > 232\n",
      "P15692.txt 245 > 232\n",
      "P15692.txt 248 > 232\n",
      "P15692.txt 251 > 232\n",
      "P15692.txt 253 > 232\n",
      "Q9UPX8.txt 1830 > 1470\n",
      "Q9UPX8.txt 1800 > 1470\n",
      "Q9UPX8.txt 1832 > 1470\n",
      "Q9UPX8.txt 1802 > 1470\n",
      "Q9UPX8.txt 1803 > 1470\n",
      "Q9UPX8.txt 1835 > 1470\n"
     ]
    }
   ],
   "source": [
    "import os\n",
    "import numpy as np\n",
    "\n",
    "with open(f'/home/vit/Projects/flexibility-analysis/data/features/plDDT/train.txt', 'w') as wf:\n",
    "    for sequence in os.listdir('/home/vit/Projects/flexibility-analysis/data/features/plDDT/sequences'):\n",
    "        with open(f'/home/vit/Projects/flexibility-analysis/data/features/plDDT/sequences/{sequence}', 'r') as rf:\n",
    "            seq = rf.read()\n",
    "        seq = seq.strip()\n",
    "        \n",
    "        binding_site = np.load(f'/home/vit/Projects/flexibility-analysis/datasets/LIGYSIS/indices/{sequence.split(\".\")[0]}.npy')\n",
    "        residues = []\n",
    "        for residue in binding_site:\n",
    "            if residue > len(seq):\n",
    "                print(f'{sequence} {residue} > {len(seq)}')\n",
    "                continue\n",
    "            residues.append(seq[residue-1] + str(residue - 1))\n",
    "        if len(residues) == 0:\n",
    "            print(f'{sequence} has no binding site')\n",
    "            continue\n",
    "        wf.write(f'{sequence.split(\".\")[0]};UNK;UNK;{\" \".join(residues)};{seq}\\n')\n",
    "\n",
    "    \n"
   ]
  },
  {
   "cell_type": "code",
   "execution_count": 6,
   "metadata": {},
   "outputs": [
    {
     "data": {
      "application/vnd.microsoft.datawrangler.viewer.v0+json": {
       "columns": [
        {
         "name": "index",
         "rawType": "int64",
         "type": "integer"
        },
        {
         "name": "ACC",
         "rawType": "object",
         "type": "string"
        },
        {
         "name": "SEG",
         "rawType": "object",
         "type": "string"
        },
        {
         "name": "ID",
         "rawType": "int64",
         "type": "integer"
        },
        {
         "name": "up_aas",
         "rawType": "object",
         "type": "unknown"
        },
        {
         "name": "n_aas",
         "rawType": "int64",
         "type": "integer"
        },
        {
         "name": "SEG_ID",
         "rawType": "object",
         "type": "string"
        },
        {
         "name": "SITE_NAME",
         "rawType": "object",
         "type": "string"
        },
        {
         "name": "pdb_id",
         "rawType": "object",
         "type": "string"
        },
        {
         "name": "auth_asym_id",
         "rawType": "object",
         "type": "string"
        },
        {
         "name": "struct_asym_id",
         "rawType": "object",
         "type": "string"
        },
        {
         "name": "rep_chain",
         "rawType": "object",
         "type": "string"
        },
        {
         "name": "RoG",
         "rawType": "float64",
         "type": "float"
        },
        {
         "name": "aas",
         "rawType": "object",
         "type": "unknown"
        },
        {
         "name": "centre",
         "rawType": "object",
         "type": "unknown"
        },
        {
         "name": "SASA",
         "rawType": "float64",
         "type": "float"
        },
        {
         "name": "VOL",
         "rawType": "float64",
         "type": "float"
        }
       ],
       "conversionMethod": "pd.DataFrame",
       "ref": "1462d73c-a449-467c-96c4-8e79e59699b8",
       "rows": [
        [
         "470",
         "P15692",
         "1",
         "0",
         "[245, 248, 251, 253, 288, 299, 300, 301]",
         "8",
         "P15692_1",
         "P15692_1_0",
         "1mkk",
         "B",
         "B",
         "1mkk_B",
         "6.94",
         "['27', '30', '33', '35', '70', '81', '82', '83']",
         "(0.948, -14.413, 1.174)",
         "383.4",
         "128.0"
        ]
       ],
       "shape": {
        "columns": 16,
        "rows": 1
       }
      },
      "text/html": [
       "<div>\n",
       "<style scoped>\n",
       "    .dataframe tbody tr th:only-of-type {\n",
       "        vertical-align: middle;\n",
       "    }\n",
       "\n",
       "    .dataframe tbody tr th {\n",
       "        vertical-align: top;\n",
       "    }\n",
       "\n",
       "    .dataframe thead th {\n",
       "        text-align: right;\n",
       "    }\n",
       "</style>\n",
       "<table border=\"1\" class=\"dataframe\">\n",
       "  <thead>\n",
       "    <tr style=\"text-align: right;\">\n",
       "      <th></th>\n",
       "      <th>ACC</th>\n",
       "      <th>SEG</th>\n",
       "      <th>ID</th>\n",
       "      <th>up_aas</th>\n",
       "      <th>n_aas</th>\n",
       "      <th>SEG_ID</th>\n",
       "      <th>SITE_NAME</th>\n",
       "      <th>pdb_id</th>\n",
       "      <th>auth_asym_id</th>\n",
       "      <th>struct_asym_id</th>\n",
       "      <th>rep_chain</th>\n",
       "      <th>RoG</th>\n",
       "      <th>aas</th>\n",
       "      <th>centre</th>\n",
       "      <th>SASA</th>\n",
       "      <th>VOL</th>\n",
       "    </tr>\n",
       "  </thead>\n",
       "  <tbody>\n",
       "    <tr>\n",
       "      <th>470</th>\n",
       "      <td>P15692</td>\n",
       "      <td>1</td>\n",
       "      <td>0</td>\n",
       "      <td>[245, 248, 251, 253, 288, 299, 300, 301]</td>\n",
       "      <td>8</td>\n",
       "      <td>P15692_1</td>\n",
       "      <td>P15692_1_0</td>\n",
       "      <td>1mkk</td>\n",
       "      <td>B</td>\n",
       "      <td>B</td>\n",
       "      <td>1mkk_B</td>\n",
       "      <td>6.94</td>\n",
       "      <td>[27, 30, 33, 35, 70, 81, 82, 83]</td>\n",
       "      <td>(0.948, -14.413, 1.174)</td>\n",
       "      <td>383.4</td>\n",
       "      <td>128.0</td>\n",
       "    </tr>\n",
       "  </tbody>\n",
       "</table>\n",
       "</div>"
      ],
      "text/plain": [
       "        ACC SEG  ID                                    up_aas  n_aas  \\\n",
       "470  P15692   1   0  [245, 248, 251, 253, 288, 299, 300, 301]      8   \n",
       "\n",
       "       SEG_ID   SITE_NAME pdb_id auth_asym_id struct_asym_id rep_chain   RoG  \\\n",
       "470  P15692_1  P15692_1_0   1mkk            B              B    1mkk_B  6.94   \n",
       "\n",
       "                                  aas                   centre   SASA    VOL  \n",
       "470  [27, 30, 33, 35, 70, 81, 82, 83]  (0.948, -14.413, 1.174)  383.4  128.0  "
      ]
     },
     "execution_count": 6,
     "metadata": {},
     "output_type": "execute_result"
    }
   ],
   "source": [
    "df[df['ACC'] == 'P15692']"
   ]
  }
 ],
 "metadata": {
  "kernelspec": {
   "display_name": "usr",
   "language": "python",
   "name": "python3"
  },
  "language_info": {
   "codemirror_mode": {
    "name": "ipython",
    "version": 3
   },
   "file_extension": ".py",
   "mimetype": "text/x-python",
   "name": "python",
   "nbconvert_exporter": "python",
   "pygments_lexer": "ipython3",
   "version": "3.11.6"
  }
 },
 "nbformat": 4,
 "nbformat_minor": 2
}
