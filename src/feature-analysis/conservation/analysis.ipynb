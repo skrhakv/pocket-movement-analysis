{
 "cells": [
  {
   "cell_type": "code",
   "execution_count": 6,
   "metadata": {},
   "outputs": [],
   "source": [
    "def get_conservation_path(dataset):\n",
    "    return f'/home/vit/Projects/flexibility-analysis/data/features/conservation/{dataset}'\n",
    "def get_indices_path(dataset):\n",
    "    return f'/home/vit/Projects/flexibility-analysis/data/features/fluctuation/{dataset}/indices'"
   ]
  },
  {
   "cell_type": "code",
   "execution_count": 10,
   "metadata": {},
   "outputs": [
    {
     "name": "stdout",
     "output_type": "stream",
     "text": [
      "CONSERVATION - rigid-dataset:\n",
      "Mean binding conservation: 1.1626772019521263\n",
      "Mean nonbinding conservation: 0.44082719315175806\n",
      "\n",
      "CONSERVATION - cryptobench-dataset:\n",
      "Mean binding conservation: 1.0328582006664198\n",
      "Mean nonbinding conservation: 0.43316122651722033\n",
      "\n"
     ]
    }
   ],
   "source": [
    "import numpy as np\n",
    "import os\n",
    "\n",
    "def compute_mean_conservation(dataset):\n",
    "    conservation_path = get_conservation_path(dataset)\n",
    "    indices_path = get_indices_path(dataset)\n",
    "\n",
    "    binding = []\n",
    "    nonbinding = []\n",
    "\n",
    "    for filename in os.listdir(conservation_path):\n",
    "        conservation_data = np.load(os.path.join(conservation_path, filename))\n",
    "        indices = np.load(os.path.join(indices_path, filename))\n",
    "        \n",
    "        binding.extend(conservation_data[indices])\n",
    "        nonbinding.extend(np.delete(conservation_data, indices))\n",
    "    \n",
    "    print(f'CONSERVATION - {dataset}:')\n",
    "    print(f'Mean binding conservation: {np.mean(binding)}')\n",
    "    print(f'Mean nonbinding conservation: {np.mean(nonbinding)}')\n",
    "    print()\n",
    "\n",
    "compute_mean_conservation('rigid-dataset')\n",
    "compute_mean_conservation('cryptobench-dataset')"
   ]
  },
  {
   "cell_type": "markdown",
   "metadata": {},
   "source": [
    "Do conserved residues have higher/lower fluctuation?"
   ]
  },
  {
   "cell_type": "code",
   "execution_count": null,
   "metadata": {},
   "outputs": [],
   "source": [
    "#"
   ]
  }
 ],
 "metadata": {
  "kernelspec": {
   "display_name": "usr",
   "language": "python",
   "name": "python3"
  },
  "language_info": {
   "codemirror_mode": {
    "name": "ipython",
    "version": 3
   },
   "file_extension": ".py",
   "mimetype": "text/x-python",
   "name": "python",
   "nbconvert_exporter": "python",
   "pygments_lexer": "ipython3",
   "version": "3.11.6"
  }
 },
 "nbformat": 4,
 "nbformat_minor": 2
}
