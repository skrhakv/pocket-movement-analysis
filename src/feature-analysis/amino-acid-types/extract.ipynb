{
 "cells": [
  {
   "cell_type": "code",
   "execution_count": 24,
   "metadata": {},
   "outputs": [],
   "source": [
    "import json\n",
    "import matplotlib.pyplot as plt\n",
    "import numpy as np\n",
    "import sys\n",
    "sys.path.append('../../utils/')\n",
    "import biotite_utils\n",
    "from  biotite.sequence import ProteinSequence\n",
    "\n",
    "def get_annotations(dataset):\n",
    "    DATASET_PATH = f'../../../datasets/{dataset}'\n",
    "\n",
    "    def load_apo_structures(path):\n",
    "        with open(path) as f:\n",
    "            dataset = json.load(f)\n",
    "\n",
    "        ids = {}\n",
    "        for apo_id, holo_structures in dataset.items():\n",
    "            for holo_structure in holo_structures:\n",
    "                # skip multichain structures\n",
    "                if '-' in holo_structure['apo_chain']:\n",
    "                    continue\n",
    "                id = apo_id + holo_structure['apo_chain']\n",
    "                binding_residues = set([int(''.join(filter(str.isdigit, residue.split('_')[1]))) for residue in holo_structure['apo_pocket_selection']])\n",
    "                if id in ids: ids[id].update(binding_residues)\n",
    "                else: ids[id] = binding_residues\n",
    "        return ids\n",
    "\n",
    "    ids = {}\n",
    "    for fold in [f'train-fold-{i}.json' for i in range(4)]:\n",
    "        subset_ids = load_apo_structures(f'{DATASET_PATH}/folds/{fold}')\n",
    "        ids = {**ids, **subset_ids}\n",
    "    return ids \n",
    "\n",
    "def count_amino_acid_types(dataset):\n",
    "    binding_amino_acids = {'ALA': 0, 'ARG': 0, 'ASN': 0, 'ASP': 0, 'CYS': 0, 'GLN': 0, 'GLU': 0, 'GLY': 0, 'HIS': 0, 'ILE': 0, 'LEU': 0, 'LYS': 0, 'MET': 0, 'PHE': 0, 'PRO': 0, 'SER': 0, 'THR': 0, 'TRP': 0, 'TYR': 0, 'VAL': 0}\n",
    "    nonbinding_amino_acids = {'ALA': 0, 'ARG': 0, 'ASN': 0, 'ASP': 0, 'CYS': 0, 'GLN': 0, 'GLU': 0, 'GLY': 0, 'HIS': 0, 'ILE': 0, 'LEU': 0, 'LYS': 0, 'MET': 0, 'PHE': 0, 'PRO': 0, 'SER': 0, 'THR': 0, 'TRP': 0, 'TYR': 0, 'VAL': 0}\n",
    "    \n",
    "    for id, binding_residues in dataset.items():\n",
    "        if id == '8j1kA': continue # skip 8j1kA, it throws some weird error I don't want to debug\n",
    "\n",
    "        # print(f'Processing {id} ...')\n",
    "        \n",
    "        protein = biotite_utils.load_structure(id)\n",
    "        chain_id = id[4:]\n",
    "        protein_structure = biotite_utils.get_protein_backbone(protein, chain_id)\n",
    "        \n",
    "        for residue in protein_structure:\n",
    "            if residue.res_id in binding_residues:\n",
    "                binding_amino_acids[residue.res_name] += 1\n",
    "            else:\n",
    "                nonbinding_amino_acids[residue.res_name] += 1\n",
    "    return binding_amino_acids, nonbinding_amino_acids\n",
    "   "
   ]
  },
  {
   "cell_type": "code",
   "execution_count": null,
   "metadata": {},
   "outputs": [],
   "source": [
    "DATASET = 'rigid-dataset'\n",
    "rigid_ids = get_annotations(DATASET)\n",
    "rigid_binding_amino_acids, rigid_nonbinding_amino_acids = count_amino_acid_types(rigid_ids)\n",
    "\n",
    "DATASET = 'cryptobench-dataset'\n",
    "cryptobench_ids = get_annotations(DATASET)\n",
    "cryptobench_binding_amino_acids, cryptobench_nonbinding_amino_acids = count_amino_acid_types(cryptobench_ids)\n"
   ]
  },
  {
   "cell_type": "code",
   "execution_count": null,
   "metadata": {},
   "outputs": [
    {
     "ename": "KeyError",
     "evalue": "'A'",
     "output_type": "error",
     "traceback": [
      "\u001b[0;31m---------------------------------------------------------------------------\u001b[0m",
      "\u001b[0;31mKeyError\u001b[0m                                  Traceback (most recent call last)",
      "Cell \u001b[0;32mIn[27], line 23\u001b[0m\n\u001b[1;32m     20\u001b[0m     plt\u001b[38;5;241m.\u001b[39mlegend() \n\u001b[1;32m     21\u001b[0m     plt\u001b[38;5;241m.\u001b[39mshow()     \n\u001b[0;32m---> 23\u001b[0m \u001b[43mmake_histogram\u001b[49m\u001b[43m(\u001b[49m\u001b[43m[\u001b[49m\u001b[43mcryptobench_binding_amino_acids\u001b[49m\u001b[43m,\u001b[49m\u001b[43m \u001b[49m\u001b[43mrigid_binding_amino_acids\u001b[49m\u001b[43m,\u001b[49m\u001b[43m \u001b[49m\u001b[43mcryptobench_nonbinding_amino_acids\u001b[49m\u001b[43m,\u001b[49m\u001b[43m \u001b[49m\u001b[43mrigid_nonbinding_amino_acids\u001b[49m\u001b[43m]\u001b[49m\u001b[43m,\u001b[49m\n\u001b[1;32m     24\u001b[0m \u001b[43m               \u001b[49m\u001b[43m[\u001b[49m\u001b[38;5;124;43m'\u001b[39;49m\u001b[38;5;124;43mbinding - cryptobench\u001b[39;49m\u001b[38;5;124;43m'\u001b[39;49m\u001b[43m,\u001b[49m\u001b[43m \u001b[49m\u001b[38;5;124;43m'\u001b[39;49m\u001b[38;5;124;43mbinding - rigid_dataset\u001b[39;49m\u001b[38;5;124;43m'\u001b[39;49m\u001b[43m,\u001b[49m\u001b[43m \u001b[49m\u001b[38;5;124;43m'\u001b[39;49m\u001b[38;5;124;43mnonbinding - cryptobench\u001b[39;49m\u001b[38;5;124;43m'\u001b[39;49m\u001b[43m,\u001b[49m\u001b[43m \u001b[49m\u001b[38;5;124;43m'\u001b[39;49m\u001b[38;5;124;43mnonbinding - rigid_dataset\u001b[39;49m\u001b[38;5;124;43m'\u001b[39;49m\u001b[43m]\u001b[49m\u001b[43m)\u001b[49m\n",
      "Cell \u001b[0;32mIn[27], line 11\u001b[0m, in \u001b[0;36mmake_histogram\u001b[0;34m(datasets, labels)\u001b[0m\n\u001b[1;32m      8\u001b[0m X_axis \u001b[38;5;241m=\u001b[39m np\u001b[38;5;241m.\u001b[39marange(\u001b[38;5;28mlen\u001b[39m(amino_acids)) \n\u001b[1;32m     10\u001b[0m \u001b[38;5;28;01mfor\u001b[39;00m i, (dataset, label) \u001b[38;5;129;01min\u001b[39;00m \u001b[38;5;28menumerate\u001b[39m(\u001b[38;5;28mzip\u001b[39m(datasets,labels)):\n\u001b[0;32m---> 11\u001b[0m     hist \u001b[38;5;241m=\u001b[39m \u001b[43m[\u001b[49m\u001b[43mdataset\u001b[49m\u001b[43m[\u001b[49m\u001b[43mProteinSequence\u001b[49m\u001b[38;5;241;43m.\u001b[39;49m\u001b[43mconvert_letter_3to1\u001b[49m\u001b[43m(\u001b[49m\u001b[43mi\u001b[49m\u001b[43m)\u001b[49m\u001b[43m]\u001b[49m\u001b[43m \u001b[49m\u001b[38;5;28;43;01mfor\u001b[39;49;00m\u001b[43m \u001b[49m\u001b[43mi\u001b[49m\u001b[43m \u001b[49m\u001b[38;5;129;43;01min\u001b[39;49;00m\u001b[43m \u001b[49m\u001b[43mamino_acids\u001b[49m\u001b[43m]\u001b[49m\n\u001b[1;32m     12\u001b[0m     hist \u001b[38;5;241m=\u001b[39m normalize(hist)\n\u001b[1;32m     13\u001b[0m     shift \u001b[38;5;241m=\u001b[39m \u001b[38;5;241m-\u001b[39m\u001b[38;5;241m0.4\u001b[39m \u001b[38;5;241m+\u001b[39m (i \u001b[38;5;241m*\u001b[39m \u001b[38;5;241m0.2\u001b[39m)\n",
      "Cell \u001b[0;32mIn[27], line 11\u001b[0m, in \u001b[0;36m<listcomp>\u001b[0;34m(.0)\u001b[0m\n\u001b[1;32m      8\u001b[0m X_axis \u001b[38;5;241m=\u001b[39m np\u001b[38;5;241m.\u001b[39marange(\u001b[38;5;28mlen\u001b[39m(amino_acids)) \n\u001b[1;32m     10\u001b[0m \u001b[38;5;28;01mfor\u001b[39;00m i, (dataset, label) \u001b[38;5;129;01min\u001b[39;00m \u001b[38;5;28menumerate\u001b[39m(\u001b[38;5;28mzip\u001b[39m(datasets,labels)):\n\u001b[0;32m---> 11\u001b[0m     hist \u001b[38;5;241m=\u001b[39m [dataset[\u001b[43mProteinSequence\u001b[49m\u001b[38;5;241;43m.\u001b[39;49m\u001b[43mconvert_letter_3to1\u001b[49m\u001b[43m(\u001b[49m\u001b[43mi\u001b[49m\u001b[43m)\u001b[49m] \u001b[38;5;28;01mfor\u001b[39;00m i \u001b[38;5;129;01min\u001b[39;00m amino_acids]\n\u001b[1;32m     12\u001b[0m     hist \u001b[38;5;241m=\u001b[39m normalize(hist)\n\u001b[1;32m     13\u001b[0m     shift \u001b[38;5;241m=\u001b[39m \u001b[38;5;241m-\u001b[39m\u001b[38;5;241m0.4\u001b[39m \u001b[38;5;241m+\u001b[39m (i \u001b[38;5;241m*\u001b[39m \u001b[38;5;241m0.2\u001b[39m)\n",
      "File \u001b[0;32m~/.local/lib/python3.11/site-packages/biotite/sequence/seqtypes.py:512\u001b[0m, in \u001b[0;36mProteinSequence.convert_letter_3to1\u001b[0;34m(symbol)\u001b[0m\n\u001b[1;32m    497\u001b[0m \u001b[38;5;129m@staticmethod\u001b[39m\n\u001b[1;32m    498\u001b[0m \u001b[38;5;28;01mdef\u001b[39;00m \u001b[38;5;21mconvert_letter_3to1\u001b[39m(symbol):\n\u001b[1;32m    499\u001b[0m \u001b[38;5;250m    \u001b[39m\u001b[38;5;124;03m\"\"\"\u001b[39;00m\n\u001b[1;32m    500\u001b[0m \u001b[38;5;124;03m    Convert a 3-letter to a 1-letter amino acid representation.\u001b[39;00m\n\u001b[1;32m    501\u001b[0m \u001b[38;5;124;03m    \u001b[39;00m\n\u001b[0;32m   (...)\u001b[0m\n\u001b[1;32m    510\u001b[0m \u001b[38;5;124;03m        1-letter amino acid representation.\u001b[39;00m\n\u001b[1;32m    511\u001b[0m \u001b[38;5;124;03m    \"\"\"\u001b[39;00m\n\u001b[0;32m--> 512\u001b[0m     \u001b[38;5;28;01mreturn\u001b[39;00m \u001b[43mProteinSequence\u001b[49m\u001b[38;5;241;43m.\u001b[39;49m\u001b[43m_dict_3to1\u001b[49m\u001b[43m[\u001b[49m\u001b[43msymbol\u001b[49m\u001b[38;5;241;43m.\u001b[39;49m\u001b[43mupper\u001b[49m\u001b[43m(\u001b[49m\u001b[43m)\u001b[49m\u001b[43m]\u001b[49m\n",
      "\u001b[0;31mKeyError\u001b[0m: 'A'"
     ]
    }
   ],
   "source": [
    "def normalize(original_list):\n",
    "    list_sum = sum(original_list)\n",
    "    return [i / list_sum for i in original_list]\n",
    "\n",
    "def make_histogram(datasets, labels):\n",
    "    amino_acids = [ProteinSequence.convert_letter_3to1(i) for i in datasets[0].keys()]\n",
    "\n",
    "    X_axis = np.arange(len(amino_acids)) \n",
    "\n",
    "    for i, (dataset, label) in enumerate(zip(datasets,labels)):\n",
    "        hist = [dataset[ProteinSequence.convert_letter_1to3(i)] for i in amino_acids]\n",
    "        hist = normalize(hist)\n",
    "        shift = -0.4 + (i * 0.2)\n",
    "        plt.bar(X_axis + shift, hist, 0.2, label=label)\n",
    "    \n",
    "    plt.xticks(X_axis, amino_acids) \n",
    "    plt.xlabel(\"AA type\") \n",
    "    plt.ylabel(\"Frequency\") \n",
    "    plt.title(\"frequency of amino acids\") \n",
    "    plt.legend() \n",
    "    plt.show()     \n",
    "\n",
    "make_histogram([cryptobench_binding_amino_acids, rigid_binding_amino_acids, cryptobench_nonbinding_amino_acids, rigid_nonbinding_amino_acids],\n",
    "               ['binding - cryptobench', 'binding - rigid_dataset', 'nonbinding - cryptobench', 'nonbinding - rigid_dataset'])"
   ]
  }
 ],
 "metadata": {
  "kernelspec": {
   "display_name": "usr",
   "language": "python",
   "name": "python3"
  },
  "language_info": {
   "codemirror_mode": {
    "name": "ipython",
    "version": 3
   },
   "file_extension": ".py",
   "mimetype": "text/x-python",
   "name": "python",
   "nbconvert_exporter": "python",
   "pygments_lexer": "ipython3",
   "version": "3.11.6"
  }
 },
 "nbformat": 4,
 "nbformat_minor": 2
}
