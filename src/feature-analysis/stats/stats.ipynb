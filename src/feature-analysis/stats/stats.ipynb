{
 "cells": [
  {
   "cell_type": "code",
   "execution_count": 1,
   "metadata": {},
   "outputs": [],
   "source": [
    "import sys\n",
    "sys.path.append('../../utils/')\n",
    "import biotite_utils\n",
    "import dataset_utils\n",
    "import statistics\n",
    "\n",
    "def count_amino_acids(dataset):\n",
    "    binding_amino_acids = []\n",
    "    nonbinding_amino_acids = []\n",
    "    \n",
    "    for id, binding_residues in dataset.items():\n",
    "        count_binding_amino_acids = 0\n",
    "        count_nonbinding_amino_acids = 0\n",
    "        if id == '8j1kA': continue # skip 8j1kA, it throws some weird error I don't want to debug\n",
    "\n",
    "        # print(f'Processing {id} ...')\n",
    "        \n",
    "        protein = biotite_utils.load_structure(id)\n",
    "        chain_id = id[4:]\n",
    "        protein_structure = biotite_utils.get_protein_backbone(protein, chain_id)\n",
    "        \n",
    "        for residue in protein_structure:\n",
    "            if residue.res_id in binding_residues:\n",
    "                count_binding_amino_acids += 1\n",
    "            else:\n",
    "                count_nonbinding_amino_acids += 1\n",
    "    \n",
    "        binding_amino_acids.append(count_binding_amino_acids)\n",
    "        nonbinding_amino_acids.append(count_nonbinding_amino_acids)\n",
    "    \n",
    "    return binding_amino_acids, nonbinding_amino_acids\n",
    "   \n"
   ]
  },
  {
   "cell_type": "markdown",
   "metadata": {},
   "source": [
    "# avg. \\# of binding residues, avg. \\# of residues"
   ]
  },
  {
   "cell_type": "code",
   "execution_count": 2,
   "metadata": {},
   "outputs": [
    {
     "name": "stdout",
     "output_type": "stream",
     "text": [
      "RIGID binding: 11.043478260869565 +- 6.696454588748716\n",
      "RIGID nonbinding: 368.3416149068323 +- 198.28585255307013\n",
      "CryptoBench binding: 17.542893725992318 +- 10.55715901591945\n",
      "CryptoBench nonbinding: 286.61075544174133 +- 147.51514337585076\n"
     ]
    }
   ],
   "source": [
    "DATASET = 'rigid-dataset'\n",
    "DATASET_PATH = f'../../../datasets/{DATASET}'\n",
    "\n",
    "rigid_ids = dataset_utils.get_annotations(DATASET_PATH)\n",
    "binding_aas, nonbinding_aas = count_amino_acids(rigid_ids)\n",
    "print(f'RIGID binding: {statistics.mean(binding_aas)} +- {statistics.stdev(binding_aas)}')\n",
    "print(f'RIGID nonbinding: {statistics.mean(nonbinding_aas)} +- {statistics.stdev(nonbinding_aas)}')\n",
    "\n",
    "\n",
    "DATASET = 'cryptobench-dataset'\n",
    "DATASET_PATH = f'../../../datasets/{DATASET}'\n",
    "\n",
    "cryptobench_ids = dataset_utils.get_annotations(DATASET_PATH)\n",
    "binding_aas, nonbinding_aas = count_amino_acids(cryptobench_ids)\n",
    "print(f'CryptoBench binding: {statistics.mean(binding_aas)} +- {statistics.stdev(binding_aas)}')\n",
    "print(f'CryptoBench nonbinding: {statistics.mean(nonbinding_aas)} +- {statistics.stdev(nonbinding_aas)}')\n"
   ]
  },
  {
   "cell_type": "markdown",
   "metadata": {},
   "source": [
    "# avg. pRMSD"
   ]
  },
  {
   "cell_type": "code",
   "execution_count": 3,
   "metadata": {},
   "outputs": [
    {
     "name": "stdout",
     "output_type": "stream",
     "text": [
      "rigid-dataset: 0.2611739502999143 +- 0.11367286157237538\n",
      "cryptobench-dataset: 3.016845360824742 +- 0.8605282026929327\n"
     ]
    }
   ],
   "source": [
    "import json\n",
    "\n",
    "\n",
    "for ids, dataset_name in zip([[i[:4] for i in rigid_ids.keys()], [i[:4] for i in cryptobench_ids.keys()]], ['rigid-dataset', 'cryptobench-dataset']):\n",
    "    dataset_path = f'../../../datasets/{dataset_name}/dataset.json'\n",
    "    with open(dataset_path) as f:\n",
    "        dataset = json.load(f)\n",
    "\n",
    "    pRMSDs = []\n",
    "    for apo_id, holo_structures in dataset.items():\n",
    "        if apo_id not in ids:\n",
    "            continue\n",
    "        for holo_structure in holo_structures:\n",
    "            pRMSDs.append(holo_structure['pRMSD'])\n",
    "    print(f'{dataset_name}: {statistics.mean(pRMSDs)} +- {statistics.stdev(pRMSDs)}')"
   ]
  },
  {
   "cell_type": "markdown",
   "metadata": {},
   "source": [
    "# number of structures"
   ]
  },
  {
   "cell_type": "code",
   "execution_count": 4,
   "metadata": {},
   "outputs": [
    {
     "name": "stdout",
     "output_type": "stream",
     "text": [
      "number of protein structures in CryptoBench: 782\n",
      "number of protein structures in RIGID dataset: 483\n"
     ]
    }
   ],
   "source": [
    "print(f'number of protein structures in CryptoBench: {len(cryptobench_ids)}')\n",
    "print(f'number of protein structures in RIGID dataset: {len(rigid_ids)}')"
   ]
  }
 ],
 "metadata": {
  "kernelspec": {
   "display_name": "usr",
   "language": "python",
   "name": "python3"
  },
  "language_info": {
   "codemirror_mode": {
    "name": "ipython",
    "version": 3
   },
   "file_extension": ".py",
   "mimetype": "text/x-python",
   "name": "python",
   "nbconvert_exporter": "python",
   "pygments_lexer": "ipython3",
   "version": "3.11.6"
  }
 },
 "nbformat": 4,
 "nbformat_minor": 2
}
